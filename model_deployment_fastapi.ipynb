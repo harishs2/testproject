{
 "cells": [
  {
   "cell_type": "code",
   "execution_count": 1,
   "id": "4bef5a38",
   "metadata": {},
   "outputs": [
    {
     "name": "stdout",
     "output_type": "stream",
     "text": [
      "mlflow, version 2.2.2\n"
     ]
    }
   ],
   "source": [
    "!mlflow --version"
   ]
  },
  {
   "cell_type": "code",
   "execution_count": 2,
   "id": "6e1afcd3",
   "metadata": {},
   "outputs": [],
   "source": [
    "import numpy as np\n",
    "import pandas as pd\n",
    "from sklearn.model_selection import train_test_split\n",
    "from sklearn.linear_model import LogisticRegression\n",
    "from sklearn.metrics import accuracy_score,precision_score,recall_score,log_loss,RocCurveDisplay,ConfusionMatrixDisplay\n",
    "import matplotlib.pyplot as plt\n"
   ]
  },
  {
   "cell_type": "code",
   "execution_count": 3,
   "id": "687a5fbc",
   "metadata": {},
   "outputs": [],
   "source": [
    "#Load Data\n",
    "\n",
    "def load_data(url):\n",
    "    data=pd.read_csv(url,sep=',')\n",
    "    return data\n",
    "    "
   ]
  },
  {
   "cell_type": "code",
   "execution_count": 4,
   "id": "f149ac5d",
   "metadata": {},
   "outputs": [],
   "source": [
    "#split data\n",
    "\n",
    "def train_test_split(final_data,target_column):\n",
    "    from sklearn.model_selection import train_test_split\n",
    "    X=final_data.loc[:,final_data.columns!=target_column]\n",
    "    y=final_data.loc[:,final_data.columns==target_column]\n",
    "    X_train,X_test,y_train,y_test = train_test_split(X,y,test_size=0.3,stratify=y,random_state=47)\n",
    "    return X_train,X_test,y_train,y_test\n"
   ]
  },
  {
   "cell_type": "code",
   "execution_count": 5,
   "id": "aa56068e",
   "metadata": {},
   "outputs": [],
   "source": [
    "# train basic classifier\n",
    "\n",
    "def training_basic_classifier(X_train,y_train):\n",
    "    classifier = LogisticRegression(max_iter=500)\n",
    "    classifier.fit(X_train,y_train)\n",
    "\n",
    "    return classifier"
   ]
  },
  {
   "cell_type": "code",
   "execution_count": 6,
   "id": "23165a7e",
   "metadata": {},
   "outputs": [],
   "source": [
    "def predict_on_test_data(model,X_test):\n",
    "    y_pred=model.predict(X_test)\n",
    "    return y_pred"
   ]
  },
  {
   "cell_type": "code",
   "execution_count": 7,
   "id": "9595d38b",
   "metadata": {},
   "outputs": [],
   "source": [
    "def predict_prob_on_test_data(model,X_test):\n",
    "    y_pred_prb=model.predict_proba(X_test)\n",
    "    return y_pred_prb"
   ]
  },
  {
   "cell_type": "code",
   "execution_count": 8,
   "id": "2b857ca0",
   "metadata": {},
   "outputs": [],
   "source": [
    "def get_metrics(y_true,y_pred,y_pred_prb):\n",
    "    acc= accuracy_score(y_true,y_pred)\n",
    "    prec= precision_score(y_true,y_pred,average='micro')\n",
    "    recall= recall_score(y_true,y_pred,average='micro')\n",
    "    entropy=log_loss(y_true,y_pred_prb)\n",
    "    return {'accuracy':round(acc,2),'precision':round(prec,2),'recall':round(recall,2),'entropy':round(entropy,2)}\n",
    "    "
   ]
  },
  {
   "cell_type": "code",
   "execution_count": 9,
   "id": "5a2d49c7",
   "metadata": {},
   "outputs": [],
   "source": [
    "def create_roc_auc(clf,X_data,y_data):\n",
    "    RocCurveDisplay.from_estimator(clf,X_data,y_data)\n",
    "    plt.savefig('roc_auc_curve.png')"
   ]
  },
  {
   "cell_type": "code",
   "execution_count": 10,
   "id": "ce2e249b",
   "metadata": {},
   "outputs": [],
   "source": [
    "def create_confusion_matrix(clf,X_test,y_test):\n",
    "    ConfusionMatrixDisplay.from_estimator(clf,X_test,y_test)\n",
    "    plt.savefig('ConfusionMatrix.png')"
   ]
  },
  {
   "cell_type": "code",
   "execution_count": 11,
   "id": "28b148b2",
   "metadata": {},
   "outputs": [],
   "source": [
    "### Function calls"
   ]
  },
  {
   "cell_type": "code",
   "execution_count": 12,
   "id": "9d6d2ad8",
   "metadata": {},
   "outputs": [
    {
     "data": {
      "text/html": [
       "<div>\n",
       "<style scoped>\n",
       "    .dataframe tbody tr th:only-of-type {\n",
       "        vertical-align: middle;\n",
       "    }\n",
       "\n",
       "    .dataframe tbody tr th {\n",
       "        vertical-align: top;\n",
       "    }\n",
       "\n",
       "    .dataframe thead th {\n",
       "        text-align: right;\n",
       "    }\n",
       "</style>\n",
       "<table border=\"1\" class=\"dataframe\">\n",
       "  <thead>\n",
       "    <tr style=\"text-align: right;\">\n",
       "      <th></th>\n",
       "      <th>sepal-length</th>\n",
       "      <th>sepal-width</th>\n",
       "      <th>petal-length</th>\n",
       "      <th>petal-width</th>\n",
       "      <th>class</th>\n",
       "    </tr>\n",
       "  </thead>\n",
       "  <tbody>\n",
       "    <tr>\n",
       "      <th>0</th>\n",
       "      <td>5.1</td>\n",
       "      <td>3.5</td>\n",
       "      <td>1.4</td>\n",
       "      <td>0.2</td>\n",
       "      <td>Iris-setosa</td>\n",
       "    </tr>\n",
       "    <tr>\n",
       "      <th>1</th>\n",
       "      <td>4.9</td>\n",
       "      <td>3.0</td>\n",
       "      <td>1.4</td>\n",
       "      <td>0.2</td>\n",
       "      <td>Iris-setosa</td>\n",
       "    </tr>\n",
       "    <tr>\n",
       "      <th>2</th>\n",
       "      <td>4.7</td>\n",
       "      <td>3.2</td>\n",
       "      <td>1.3</td>\n",
       "      <td>0.2</td>\n",
       "      <td>Iris-setosa</td>\n",
       "    </tr>\n",
       "    <tr>\n",
       "      <th>3</th>\n",
       "      <td>4.6</td>\n",
       "      <td>3.1</td>\n",
       "      <td>1.5</td>\n",
       "      <td>0.2</td>\n",
       "      <td>Iris-setosa</td>\n",
       "    </tr>\n",
       "    <tr>\n",
       "      <th>4</th>\n",
       "      <td>5.0</td>\n",
       "      <td>3.6</td>\n",
       "      <td>1.4</td>\n",
       "      <td>0.2</td>\n",
       "      <td>Iris-setosa</td>\n",
       "    </tr>\n",
       "  </tbody>\n",
       "</table>\n",
       "</div>"
      ],
      "text/plain": [
       "   sepal-length  sepal-width  petal-length  petal-width        class\n",
       "0           5.1          3.5           1.4          0.2  Iris-setosa\n",
       "1           4.9          3.0           1.4          0.2  Iris-setosa\n",
       "2           4.7          3.2           1.3          0.2  Iris-setosa\n",
       "3           4.6          3.1           1.5          0.2  Iris-setosa\n",
       "4           5.0          3.6           1.4          0.2  Iris-setosa"
      ]
     },
     "execution_count": 12,
     "metadata": {},
     "output_type": "execute_result"
    }
   ],
   "source": [
    "#Data load\n",
    "\n",
    "url='/home/harish/Documents/MLops/iris.csv'\n",
    "data= load_data(url)\n",
    "data.head()\n"
   ]
  },
  {
   "cell_type": "code",
   "execution_count": 13,
   "id": "b70128c8",
   "metadata": {},
   "outputs": [
    {
     "data": {
      "text/plain": [
       "Iris-setosa        50\n",
       "Iris-versicolor    50\n",
       "Iris-virginica     50\n",
       "Name: class, dtype: int64"
      ]
     },
     "execution_count": 13,
     "metadata": {},
     "output_type": "execute_result"
    }
   ],
   "source": [
    "data['class'].value_counts()"
   ]
  },
  {
   "cell_type": "code",
   "execution_count": 14,
   "id": "293b1c85",
   "metadata": {},
   "outputs": [],
   "source": [
    "from sklearn import preprocessing\n",
    "le=preprocessing.LabelEncoder()\n",
    "data['class']=le.fit_transform(data['class'])\n"
   ]
  },
  {
   "cell_type": "code",
   "execution_count": 15,
   "id": "459ac16d",
   "metadata": {},
   "outputs": [],
   "source": [
    "#split the data\n",
    "\n",
    "target_column='class'\n",
    "X_train,X_test,y_train,y_test = train_test_split(data,target_column)"
   ]
  },
  {
   "cell_type": "code",
   "execution_count": 16,
   "id": "72ac976b",
   "metadata": {},
   "outputs": [
    {
     "data": {
      "text/html": [
       "<div>\n",
       "<style scoped>\n",
       "    .dataframe tbody tr th:only-of-type {\n",
       "        vertical-align: middle;\n",
       "    }\n",
       "\n",
       "    .dataframe tbody tr th {\n",
       "        vertical-align: top;\n",
       "    }\n",
       "\n",
       "    .dataframe thead th {\n",
       "        text-align: right;\n",
       "    }\n",
       "</style>\n",
       "<table border=\"1\" class=\"dataframe\">\n",
       "  <thead>\n",
       "    <tr style=\"text-align: right;\">\n",
       "      <th></th>\n",
       "      <th>sepal-length</th>\n",
       "      <th>sepal-width</th>\n",
       "      <th>petal-length</th>\n",
       "      <th>petal-width</th>\n",
       "    </tr>\n",
       "  </thead>\n",
       "  <tbody>\n",
       "    <tr>\n",
       "      <th>26</th>\n",
       "      <td>5.0</td>\n",
       "      <td>3.4</td>\n",
       "      <td>1.6</td>\n",
       "      <td>0.4</td>\n",
       "    </tr>\n",
       "    <tr>\n",
       "      <th>41</th>\n",
       "      <td>4.5</td>\n",
       "      <td>2.3</td>\n",
       "      <td>1.3</td>\n",
       "      <td>0.3</td>\n",
       "    </tr>\n",
       "    <tr>\n",
       "      <th>49</th>\n",
       "      <td>5.0</td>\n",
       "      <td>3.3</td>\n",
       "      <td>1.4</td>\n",
       "      <td>0.2</td>\n",
       "    </tr>\n",
       "    <tr>\n",
       "      <th>44</th>\n",
       "      <td>5.1</td>\n",
       "      <td>3.8</td>\n",
       "      <td>1.9</td>\n",
       "      <td>0.4</td>\n",
       "    </tr>\n",
       "    <tr>\n",
       "      <th>141</th>\n",
       "      <td>6.9</td>\n",
       "      <td>3.1</td>\n",
       "      <td>5.1</td>\n",
       "      <td>2.3</td>\n",
       "    </tr>\n",
       "  </tbody>\n",
       "</table>\n",
       "</div>"
      ],
      "text/plain": [
       "     sepal-length  sepal-width  petal-length  petal-width\n",
       "26            5.0          3.4           1.6          0.4\n",
       "41            4.5          2.3           1.3          0.3\n",
       "49            5.0          3.3           1.4          0.2\n",
       "44            5.1          3.8           1.9          0.4\n",
       "141           6.9          3.1           5.1          2.3"
      ]
     },
     "execution_count": 16,
     "metadata": {},
     "output_type": "execute_result"
    }
   ],
   "source": [
    "X_test.head()"
   ]
  },
  {
   "cell_type": "code",
   "execution_count": 17,
   "id": "60abd0b8",
   "metadata": {},
   "outputs": [
    {
     "data": {
      "text/html": [
       "<div>\n",
       "<style scoped>\n",
       "    .dataframe tbody tr th:only-of-type {\n",
       "        vertical-align: middle;\n",
       "    }\n",
       "\n",
       "    .dataframe tbody tr th {\n",
       "        vertical-align: top;\n",
       "    }\n",
       "\n",
       "    .dataframe thead th {\n",
       "        text-align: right;\n",
       "    }\n",
       "</style>\n",
       "<table border=\"1\" class=\"dataframe\">\n",
       "  <thead>\n",
       "    <tr style=\"text-align: right;\">\n",
       "      <th></th>\n",
       "      <th>class</th>\n",
       "    </tr>\n",
       "  </thead>\n",
       "  <tbody>\n",
       "    <tr>\n",
       "      <th>25</th>\n",
       "      <td>0</td>\n",
       "    </tr>\n",
       "    <tr>\n",
       "      <th>30</th>\n",
       "      <td>0</td>\n",
       "    </tr>\n",
       "    <tr>\n",
       "      <th>74</th>\n",
       "      <td>1</td>\n",
       "    </tr>\n",
       "    <tr>\n",
       "      <th>29</th>\n",
       "      <td>0</td>\n",
       "    </tr>\n",
       "    <tr>\n",
       "      <th>135</th>\n",
       "      <td>2</td>\n",
       "    </tr>\n",
       "  </tbody>\n",
       "</table>\n",
       "</div>"
      ],
      "text/plain": [
       "     class\n",
       "25       0\n",
       "30       0\n",
       "74       1\n",
       "29       0\n",
       "135      2"
      ]
     },
     "execution_count": 17,
     "metadata": {},
     "output_type": "execute_result"
    }
   ],
   "source": [
    "y_train.head()"
   ]
  },
  {
   "cell_type": "code",
   "execution_count": 18,
   "id": "c7271e96",
   "metadata": {},
   "outputs": [],
   "source": [
    "# TRAINING THE BASIC CLASSIFIER"
   ]
  },
  {
   "cell_type": "code",
   "execution_count": 19,
   "id": "5a17f16c",
   "metadata": {},
   "outputs": [
    {
     "name": "stderr",
     "output_type": "stream",
     "text": [
      "/home/harish/anaconda3/envs/py39/lib/python3.9/site-packages/sklearn/utils/validation.py:1143: DataConversionWarning: A column-vector y was passed when a 1d array was expected. Please change the shape of y to (n_samples, ), for example using ravel().\n",
      "  y = column_or_1d(y, warn=True)\n"
     ]
    }
   ],
   "source": [
    "model = training_basic_classifier(X_train,y_train)"
   ]
  },
  {
   "cell_type": "code",
   "execution_count": 20,
   "id": "a89a4a6e",
   "metadata": {},
   "outputs": [
    {
     "name": "stdout",
     "output_type": "stream",
     "text": [
      "[0 0 0 0 2 2 1 2 1 1 2 1 2 0 0 2 0 1 1 1 1 2 2 0 0 2 1 0 1 2 0 2 0 0 0 0 2\n",
      " 2 2 1 1 2 2 1 1]\n"
     ]
    }
   ],
   "source": [
    "y_pred=predict_on_test_data(model,X_test)\n",
    "print(y_pred)\n"
   ]
  },
  {
   "cell_type": "code",
   "execution_count": 21,
   "id": "8db1180d",
   "metadata": {},
   "outputs": [],
   "source": [
    "y_pred_prb = predict_prob_on_test_data(model,X_test)"
   ]
  },
  {
   "cell_type": "code",
   "execution_count": 22,
   "id": "4964957f",
   "metadata": {},
   "outputs": [
    {
     "name": "stdout",
     "output_type": "stream",
     "text": [
      "[[9.60740490e-01 3.92585123e-02 9.97718014e-07]\n",
      " [9.34942801e-01 6.50566003e-02 5.99143211e-07]\n",
      " [9.71021648e-01 2.89780934e-02 2.58630894e-07]\n",
      " [9.54908454e-01 4.50890652e-02 2.48114080e-06]\n",
      " [1.74070641e-04 1.08160301e-01 8.91665629e-01]\n",
      " [1.57978157e-05 8.13870365e-02 9.18597166e-01]\n",
      " [3.55155886e-03 7.13379272e-01 2.83069169e-01]\n",
      " [4.28623284e-04 1.90766355e-01 8.08805021e-01]\n",
      " [8.28608183e-03 8.65200953e-01 1.26512965e-01]\n",
      " [1.94227532e-02 8.41281047e-01 1.39296200e-01]\n",
      " [2.90591935e-05 4.04973046e-02 9.59473636e-01]\n",
      " [7.73702043e-03 8.63088176e-01 1.29174804e-01]\n",
      " [7.40210135e-04 3.66411887e-01 6.32847902e-01]\n",
      " [9.67717915e-01 3.22817386e-02 3.46308363e-07]\n",
      " [9.77156489e-01 2.28433143e-02 1.96485027e-07]\n",
      " [1.67586951e-07 8.48004269e-03 9.91519790e-01]\n",
      " [9.59315006e-01 4.06846383e-02 3.55531239e-07]\n",
      " [1.75295016e-03 6.28159618e-01 3.70087431e-01]\n",
      " [1.08862623e-02 7.09815481e-01 2.79298257e-01]\n",
      " [7.35754080e-03 7.51504221e-01 2.41138238e-01]\n",
      " [1.23371011e-02 6.90227767e-01 2.97435132e-01]\n",
      " [4.03135730e-04 2.82848973e-01 7.16747891e-01]\n",
      " [1.38177961e-04 2.39332001e-01 7.60529821e-01]\n",
      " [9.68978793e-01 3.10208459e-02 3.60967273e-07]\n",
      " [9.39903219e-01 6.00943986e-02 2.38204636e-06]\n",
      " [5.82317590e-06 1.59568689e-02 9.84037308e-01]\n",
      " [6.45386103e-04 5.18798519e-01 4.80556094e-01]\n",
      " [9.75285057e-01 2.47146842e-02 2.58753286e-07]\n",
      " [1.83046084e-03 7.41766341e-01 2.56403198e-01]\n",
      " [9.28057976e-04 4.20081834e-01 5.78990108e-01]\n",
      " [9.76403608e-01 2.35960268e-02 3.65611594e-07]\n",
      " [8.53019017e-05 3.82904687e-02 9.61624229e-01]\n",
      " [9.85843325e-01 1.41565129e-02 1.61635533e-07]\n",
      " [9.81017299e-01 1.89824287e-02 2.71891437e-07]\n",
      " [9.64736061e-01 3.52623698e-02 1.56931288e-06]\n",
      " [9.61628876e-01 3.83706646e-02 4.59229978e-07]\n",
      " [1.38952559e-05 2.68526030e-02 9.73133502e-01]\n",
      " [7.52130753e-04 2.31912820e-01 7.67335049e-01]\n",
      " [1.55963004e-05 2.44862279e-02 9.75498176e-01]\n",
      " [2.54207407e-02 9.01638154e-01 7.29411048e-02]\n",
      " [4.38581988e-02 8.86571209e-01 6.95705924e-02]\n",
      " [2.29140278e-06 3.06176185e-02 9.69380090e-01]\n",
      " [4.05890291e-05 1.45635087e-01 8.54324324e-01]\n",
      " [2.11932447e-02 9.38000251e-01 4.08065039e-02]\n",
      " [3.95714691e-02 9.47700935e-01 1.27275959e-02]]\n"
     ]
    }
   ],
   "source": [
    "print(y_pred_prb)"
   ]
  },
  {
   "cell_type": "code",
   "execution_count": 23,
   "id": "88276c8b",
   "metadata": {},
   "outputs": [],
   "source": [
    "run_metrics= get_metrics(y_test,y_pred,y_pred_prb)"
   ]
  },
  {
   "cell_type": "code",
   "execution_count": 24,
   "id": "5cb51876",
   "metadata": {},
   "outputs": [
    {
     "data": {
      "text/plain": [
       "{'accuracy': 0.93, 'precision': 0.93, 'recall': 0.93, 'entropy': 0.17}"
      ]
     },
     "execution_count": 24,
     "metadata": {},
     "output_type": "execute_result"
    }
   ],
   "source": [
    "run_metrics"
   ]
  },
  {
   "cell_type": "code",
   "execution_count": 25,
   "id": "6421569f",
   "metadata": {},
   "outputs": [
    {
     "data": {
      "image/png": "[encoded data removed]",
      "text/plain": [
       "<Figure size 640x480 with 2 Axes>"
      ]
     },
     "metadata": {},
     "output_type": "display_data"
    }
   ],
   "source": [
    "create_confusion_matrix(model,X_test,y_test)"
   ]
  },
  {
   "cell_type": "code",
   "execution_count": 26,
   "id": "c8bdd6d5",
   "metadata": {},
   "outputs": [],
   "source": [
    "# CREATE EXPERIMENT TO TRACK THE MODEL IN MLFLOW\n",
    "\n",
    "import mlflow"
   ]
  },
  {
   "cell_type": "code",
   "execution_count": 27,
   "id": "ec51d4d5",
   "metadata": {},
   "outputs": [],
   "source": [
    "def create_experiment(experiment_name,run_name,run_metrics,model,confusion_matrix_path= None,roc_auc_plot_path=None,run_params=None):\n",
    "\n",
    "    mlflow.set_tracking_uri(\"sqlite:///mlflow.db\")\n",
    "    mlflow.set_experiment(experiment_name)\n",
    "\n",
    "    with mlflow.start_run(run_name=run_name):\n",
    "\n",
    "        if not run_params==None:\n",
    "            for param in run_params:\n",
    "                mlflow.log_param(param,run_params[param])\n",
    "\n",
    "        for metric in run_metrics:\n",
    "            mlflow.log_metric(metric,run_metrics[metric])\n",
    "\n",
    "        \n",
    "        if not confusion_matrix_path==None:\n",
    "            mlflow.log_artifact(confusion_matrix_path,'Confusion_Matrix')\n",
    "\n",
    "        if not roc_auc_plot_path==None:\n",
    "            mlflow.log_artifact(roc_auc_plot_path,'roc_auc_plot')\n",
    "\n",
    "        mlflow.set_tag(\"tag1\",'iris_classifier')\n",
    "        mlflow.set_tags({\"tag2\":\"logistic_regression\",\"tag3\":\"Multiclassification using ovr-onv vs rest class\"})\n",
    "        mlflow.sklearn.log_model(model,\"model\")\n",
    "\n",
    "        print('Run - %s is logged to experiment - %s' % (run_name,experiment_name))\n",
    "                        \n"
   ]
  },
  {
   "cell_type": "code",
   "execution_count": null,
   "id": "c0eaa73c",
   "metadata": {},
   "outputs": [],
   "source": [
    "#START MLFLOW SERVER\n",
    "\n",
    "#either by command: mlflow ui \n",
    "\n",
    "# or\n",
    "\n",
    "# mlflow server --backend-store-uri sqlite:///mlflow.db --default-artifact-root ./artifacts --host 0.0.0.0 --port 5000"
   ]
  },
  {
   "cell_type": "code",
   "execution_count": 28,
   "id": "961d6f33",
   "metadata": {},
   "outputs": [
    {
     "name": "stderr",
     "output_type": "stream",
     "text": [
      "2023/04/08 14:04:55 INFO mlflow.store.db.utils: Creating initial MLflow database tables...\n",
      "2023/04/08 14:04:55 INFO mlflow.store.db.utils: Updating database tables\n",
      "INFO  [alembic.runtime.migration] Context impl SQLiteImpl.\n",
      "INFO  [alembic.runtime.migration] Will assume non-transactional DDL.\n",
      "INFO  [alembic.runtime.migration] Context impl SQLiteImpl.\n",
      "INFO  [alembic.runtime.migration] Will assume non-transactional DDL.\n",
      "2023/04/08 14:04:55 INFO mlflow.tracking.fluent: Experiment with name 'iris_classifier_08-04-23' does not exist. Creating a new experiment.\n"
     ]
    },
    {
     "name": "stdout",
     "output_type": "stream",
     "text": [
      "Run - iris_classifier_08-04-23 is logged to experiment - iris_classifier_08-04-23\n"
     ]
    },
    {
     "name": "stderr",
     "output_type": "stream",
     "text": [
      "/home/harish/anaconda3/envs/py39/lib/python3.9/site-packages/_distutils_hack/__init__.py:33: UserWarning: Setuptools is replacing distutils.\n",
      "  warnings.warn(\"Setuptools is replacing distutils.\")\n"
     ]
    }
   ],
   "source": [
    "from datetime import datetime\n",
    "experiment_name= \"iris_classifier_\"+str(datetime.now().strftime(\"%d-%m-%y\"))\n",
    "run_name=\"iris_classifier_\"+str(datetime.now().strftime(\"%d-%m-%y\"))\n",
    "create_experiment(experiment_name,run_name,run_metrics,model,'ConfusionMatrix.png')"
   ]
  },
  {
   "cell_type": "code",
   "execution_count": 30,
   "id": "ba972909",
   "metadata": {},
   "outputs": [],
   "source": [
    "# PREDICT "
   ]
  },
  {
   "cell_type": "code",
   "execution_count": 29,
   "id": "9965a3b3",
   "metadata": {},
   "outputs": [
    {
     "data": {
      "text/plain": [
       "array([0, 0, 0, 0, 2, 2, 1, 2, 1, 1, 2, 1, 2, 0, 0, 2, 0, 1, 1, 1, 1, 2,\n",
       "       2, 0, 0, 2, 1, 0, 1, 2, 0, 2, 0, 0, 0, 0, 2, 2, 2, 1, 1, 2, 2, 1,\n",
       "       1])"
      ]
     },
     "execution_count": 29,
     "metadata": {},
     "output_type": "execute_result"
    }
   ],
   "source": [
    "import mlflow\n",
    "logged_model = 'runs:/598449a0e3364eed8b9dbde3a0eeef8b/model'\n",
    "\n",
    "# Load model as a PyFuncModel.\n",
    "loaded_model = mlflow.pyfunc.load_model(logged_model)\n",
    "\n",
    "# Predict on a Pandas DataFrame.\n",
    "import pandas as pd\n",
    "loaded_model.predict(pd.DataFrame(X_test))"
   ]
  },
  {
   "cell_type": "code",
   "execution_count": 31,
   "id": "2430c31d",
   "metadata": {},
   "outputs": [],
   "source": [
    "#ADDING MLFLOW Model to Model Registry"
   ]
  },
  {
   "cell_type": "code",
   "execution_count": 35,
   "id": "2777b404",
   "metadata": {},
   "outputs": [],
   "source": [
    "#Method1 : mlflow log_model() method\n",
    "\n",
    "def create_exp_reg_model(experiment_name,run_name,run_metrics,model,confusion_matrix_path=None,roc_auc_plot_path=None,run_params=None):\n",
    "\n",
    "    mlflow.set_tracking_uri(\"sqlite:///mlflow.db\")\n",
    "    mlflow.set_experiment(experiment_name)\n",
    "\n",
    "    with mlflow.start_run(run_name=run_name) as run:\n",
    "        if not run_params == None:\n",
    "            for param in run_params:\n",
    "                mlflow.log_params(param,run_params[param])\n",
    "\n",
    "        for metric in run_metrics:\n",
    "            mlflow.log_metric(metric,run_metrics[metric])\n",
    "\n",
    "        \n",
    "        if not confusion_matrix_path==None:\n",
    "            mlflow.log_artifact(confusion_matrix_path,'Confusion_Matrix')\n",
    "\n",
    "        if not roc_auc_plot_path==None:\n",
    "            mlflow.log_artifact(roc_auc_plot_path,'roc_auc_plot')\n",
    "\n",
    "\n",
    "        mlflow.set_tag(\"tag1\",\"logreg\")\n",
    "        mlflow.set_tags({\"tag2\": \"regmodel\",\"tag3\": \"production\"})\n",
    "        mlflow.sklearn.log_model(model,\"model\",registered_model_name=\"iris_classifier\")"
   ]
  },
  {
   "cell_type": "code",
   "execution_count": 36,
   "id": "036ea46a",
   "metadata": {},
   "outputs": [],
   "source": [
    "experiment_name=\"iris_classifier_method-1\"\n",
    "run_name=\"iris_classifier_method-1\""
   ]
  },
  {
   "cell_type": "code",
   "execution_count": 39,
   "id": "f66f99fe",
   "metadata": {},
   "outputs": [
    {
     "name": "stderr",
     "output_type": "stream",
     "text": [
      "2023/04/08 16:24:49 INFO mlflow.store.db.utils: Creating initial MLflow database tables...\n",
      "2023/04/08 16:24:49 INFO mlflow.store.db.utils: Updating database tables\n",
      "INFO  [alembic.runtime.migration] Context impl SQLiteImpl.\n",
      "INFO  [alembic.runtime.migration] Will assume non-transactional DDL.\n",
      "Successfully registered model 'iris_classifier'.\n",
      "2023/04/08 16:24:49 INFO mlflow.tracking._model_registry.client: Waiting up to 300 seconds for model version to finish creation.                     Model name: iris_classifier, version 1\n",
      "Created version '1' of model 'iris_classifier'.\n"
     ]
    }
   ],
   "source": [
    "create_exp_reg_model(experiment_name,run_name,run_metrics,model,'ConfusionMatrix.png')"
   ]
  },
  {
   "cell_type": "code",
   "execution_count": 40,
   "id": "3294a6b2",
   "metadata": {},
   "outputs": [
    {
     "name": "stderr",
     "output_type": "stream",
     "text": [
      "Successfully registered model 'iris_classifier-2'.\n",
      "2023/04/08 16:33:38 INFO mlflow.tracking._model_registry.client: Waiting up to 300 seconds for model version to finish creation.                     Model name: iris_classifier-2, version 1\n",
      "Created version '1' of model 'iris_classifier-2'.\n"
     ]
    }
   ],
   "source": [
    "#METHOD2 : mlflow register model( )\n",
    "\n",
    "import mlflow\n",
    "with mlflow.start_run(run_name=run_name) as run:\n",
    "    result=mlflow.register_model(\n",
    "        \"runs:/598449a0e3364eed8b9dbde3a0eeef8b/model\",\n",
    "        \"iris_classifier-2\"\n",
    "    )"
   ]
  },
  {
   "cell_type": "code",
   "execution_count": 41,
   "id": "d6741ffd",
   "metadata": {},
   "outputs": [
    {
     "data": {
      "text/plain": [
       "<RegisteredModel: creation_timestamp=1680952080300, description=None, last_updated_timestamp=1680952080300, latest_versions=[], name='basic-classifier-method3', tags={}>"
      ]
     },
     "execution_count": 41,
     "metadata": {},
     "output_type": "execute_result"
    }
   ],
   "source": [
    "#METHOD 3: create_registered_model()\n",
    "\n",
    "import mlflow\n",
    "client = mlflow.tracking.MlflowClient()\n",
    "client.create_registered_model(\"basic-classifier-method3\")\n"
   ]
  },
  {
   "cell_type": "code",
   "execution_count": 44,
   "id": "4be28794",
   "metadata": {},
   "outputs": [
    {
     "name": "stderr",
     "output_type": "stream",
     "text": [
      "2023/04/08 16:43:11 INFO mlflow.tracking._model_registry.client: Waiting up to 300 seconds for model version to finish creation.                     Model name: basic-classifier-method3, version 1\n"
     ]
    }
   ],
   "source": [
    "client = mlflow.tracking.MlflowClient()\n",
    "result= client.create_model_version(\n",
    "    name=\"basic-classifier-method3\",\n",
    "    source=\"598449a0e3364eed8b9dbde3a0eeef8b/artifacts/model\",\n",
    "    run_id=\"598449a0e3364eed8b9dbde3a0eeef8b\"\n",
    ")"
   ]
  },
  {
   "attachments": {},
   "cell_type": "markdown",
   "id": "c4c2adcd",
   "metadata": {},
   "source": [
    "FETCHING AN MLFLOW MODEL FROM MODEL REGISTRY"
   ]
  },
  {
   "cell_type": "code",
   "execution_count": 46,
   "id": "5a1c036d",
   "metadata": {},
   "outputs": [
    {
     "name": "stdout",
     "output_type": "stream",
     "text": [
      "[0 0 0 0 2 2 1 2 1 1 2 1 2 0 0 2 0 1 1 1 1 2 2 0 0 2 1 0 1 2 0 2 0 0 0 0 2\n",
      " 2 2 1 1 2 2 1 1]\n",
      "[[9.60740490e-01 3.92585123e-02 9.97718014e-07]\n",
      " [9.34942801e-01 6.50566003e-02 5.99143211e-07]\n",
      " [9.71021648e-01 2.89780934e-02 2.58630894e-07]\n",
      " [9.54908454e-01 4.50890652e-02 2.48114080e-06]\n",
      " [1.74070641e-04 1.08160301e-01 8.91665629e-01]\n",
      " [1.57978157e-05 8.13870365e-02 9.18597166e-01]\n",
      " [3.55155886e-03 7.13379272e-01 2.83069169e-01]\n",
      " [4.28623284e-04 1.90766355e-01 8.08805021e-01]\n",
      " [8.28608183e-03 8.65200953e-01 1.26512965e-01]\n",
      " [1.94227532e-02 8.41281047e-01 1.39296200e-01]\n",
      " [2.90591935e-05 4.04973046e-02 9.59473636e-01]\n",
      " [7.73702043e-03 8.63088176e-01 1.29174804e-01]\n",
      " [7.40210135e-04 3.66411887e-01 6.32847902e-01]\n",
      " [9.67717915e-01 3.22817386e-02 3.46308363e-07]\n",
      " [9.77156489e-01 2.28433143e-02 1.96485027e-07]\n",
      " [1.67586951e-07 8.48004269e-03 9.91519790e-01]\n",
      " [9.59315006e-01 4.06846383e-02 3.55531239e-07]\n",
      " [1.75295016e-03 6.28159618e-01 3.70087431e-01]\n",
      " [1.08862623e-02 7.09815481e-01 2.79298257e-01]\n",
      " [7.35754080e-03 7.51504221e-01 2.41138238e-01]\n",
      " [1.23371011e-02 6.90227767e-01 2.97435132e-01]\n",
      " [4.03135730e-04 2.82848973e-01 7.16747891e-01]\n",
      " [1.38177961e-04 2.39332001e-01 7.60529821e-01]\n",
      " [9.68978793e-01 3.10208459e-02 3.60967273e-07]\n",
      " [9.39903219e-01 6.00943986e-02 2.38204636e-06]\n",
      " [5.82317590e-06 1.59568689e-02 9.84037308e-01]\n",
      " [6.45386103e-04 5.18798519e-01 4.80556094e-01]\n",
      " [9.75285057e-01 2.47146842e-02 2.58753286e-07]\n",
      " [1.83046084e-03 7.41766341e-01 2.56403198e-01]\n",
      " [9.28057976e-04 4.20081834e-01 5.78990108e-01]\n",
      " [9.76403608e-01 2.35960268e-02 3.65611594e-07]\n",
      " [8.53019017e-05 3.82904687e-02 9.61624229e-01]\n",
      " [9.85843325e-01 1.41565129e-02 1.61635533e-07]\n",
      " [9.81017299e-01 1.89824287e-02 2.71891437e-07]\n",
      " [9.64736061e-01 3.52623698e-02 1.56931288e-06]\n",
      " [9.61628876e-01 3.83706646e-02 4.59229978e-07]\n",
      " [1.38952559e-05 2.68526030e-02 9.73133502e-01]\n",
      " [7.52130753e-04 2.31912820e-01 7.67335049e-01]\n",
      " [1.55963004e-05 2.44862279e-02 9.75498176e-01]\n",
      " [2.54207407e-02 9.01638154e-01 7.29411048e-02]\n",
      " [4.38581988e-02 8.86571209e-01 6.95705924e-02]\n",
      " [2.29140278e-06 3.06176185e-02 9.69380090e-01]\n",
      " [4.05890291e-05 1.45635087e-01 8.54324324e-01]\n",
      " [2.11932447e-02 9.38000251e-01 4.08065039e-02]\n",
      " [3.95714691e-02 9.47700935e-01 1.27275959e-02]]\n"
     ]
    }
   ],
   "source": [
    "import mlflow.pyfunc\n",
    "\n",
    "model_name=\"iris_classifier\"\n",
    "model_version = 1\n",
    "\n",
    "model = mlflow.pyfunc.load_model(\n",
    "\n",
    "model_uri=f\"models:/{model_name}/{model_version}\"\n",
    "\n",
    ")\n",
    "\n",
    "y_pred=model.predict(X_test)\n",
    "\n",
    "print(y_pred)\n",
    "\n",
    "sklearn_model=mlflow.sklearn.load_model(\n",
    "\n",
    "    model_uri=f\"models:/{model_name}/{model_version}\"\n",
    "\n",
    ")\n",
    "\n",
    "y_pred_prb=sklearn_model.predict_proba(X_test)\n",
    "\n",
    "print(y_pred_prb)"
   ]
  },
  {
   "attachments": {},
   "cell_type": "markdown",
   "id": "a57ccf16",
   "metadata": {},
   "source": [
    "TRANSITION TO NEXT STAGE "
   ]
  },
  {
   "cell_type": "code",
   "execution_count": 2,
   "id": "f2387e43",
   "metadata": {},
   "outputs": [],
   "source": [
    "import mlflow\n",
    "mlflow.set_tracking_uri(\"sqlite:///mlflow.db\")"
   ]
  },
  {
   "cell_type": "code",
   "execution_count": 3,
   "id": "248a8b6e",
   "metadata": {},
   "outputs": [
    {
     "name": "stderr",
     "output_type": "stream",
     "text": [
      "2023/04/19 22:07:04 INFO mlflow.store.db.utils: Creating initial MLflow database tables...\n",
      "2023/04/19 22:07:04 INFO mlflow.store.db.utils: Updating database tables\n",
      "INFO  [alembic.runtime.migration] Context impl SQLiteImpl.\n",
      "INFO  [alembic.runtime.migration] Will assume non-transactional DDL.\n",
      "INFO  [alembic.runtime.migration] Context impl SQLiteImpl.\n",
      "INFO  [alembic.runtime.migration] Will assume non-transactional DDL.\n",
      "2023/04/19 22:07:04 INFO mlflow.store.db.utils: Creating initial MLflow database tables...\n",
      "2023/04/19 22:07:04 INFO mlflow.store.db.utils: Updating database tables\n",
      "INFO  [alembic.runtime.migration] Context impl SQLiteImpl.\n",
      "INFO  [alembic.runtime.migration] Will assume non-transactional DDL.\n"
     ]
    },
    {
     "data": {
      "text/plain": [
       "<ModelVersion: creation_timestamp=1680951818914, current_stage='Production', description=None, last_updated_timestamp=1681922224641, name='iris_classifier-2', run_id='598449a0e3364eed8b9dbde3a0eeef8b', run_link=None, source='/home/harish/Documents/MLops/mlruns/1/598449a0e3364eed8b9dbde3a0eeef8b/artifacts/model', status='READY', status_message=None, tags={}, user_id=None, version=1>"
      ]
     },
     "execution_count": 3,
     "metadata": {},
     "output_type": "execute_result"
    }
   ],
   "source": [
    "client= mlflow.tracking.MlflowClient()\n",
    "client.transition_model_version_stage(\n",
    "\n",
    "    name=\"iris_classifier-2\",\n",
    "    version=1,\n",
    "    stage=\"Production\"\n",
    "\n",
    ")"
   ]
  },
  {
   "attachments": {},
   "cell_type": "markdown",
   "id": "6b5b59ef",
   "metadata": {},
   "source": [
    "PREDICT FROM PRODUCTION MODEL USING STAGE"
   ]
  },
  {
   "cell_type": "code",
   "execution_count": 50,
   "id": "69597228",
   "metadata": {},
   "outputs": [
    {
     "name": "stdout",
     "output_type": "stream",
     "text": [
      "[0 0 0 0 2 2 1 2 1 1 2 1 2 0 0 2 0 1 1 1 1 2 2 0 0 2 1 0 1 2 0 2 0 0 0 0 2\n",
      " 2 2 1 1 2 2 1 1]\n"
     ]
    }
   ],
   "source": [
    "import mlflow.pyfunc\n",
    "\n",
    "model_name=\"iris_classifier\"\n",
    "stage=\"Production\"\n",
    "\n",
    "model=mlflow.pyfunc.load_model(\n",
    "\n",
    "model_uri=f\"models:/{model_name}/{stage}\"\n",
    "\n",
    ")\n",
    "\n",
    "y_pred=model.predict(X_test)\n",
    "print(y_pred)"
   ]
  },
  {
   "attachments": {},
   "cell_type": "markdown",
   "id": "b5fa3269",
   "metadata": {},
   "source": [
    "SERVING an MLFLOW MODEL FROM MODEL_REGISTRY"
   ]
  },
  {
   "attachments": {},
   "cell_type": "markdown",
   "id": "490f2c09",
   "metadata": {},
   "source": [
    "mlflow models serve --model-uri models:/iris_classifer/Production -p 1234 --no-conda\n",
    "\n",
    "\n",
    "export MLFLOW_TRACKING_URI=sqlite:///mlflow.db for linux in the same window as mlflow models serve\n",
    "\n"
   ]
  },
  {
   "attachments": {},
   "cell_type": "markdown",
   "id": "6b45ce3b",
   "metadata": {},
   "source": [
    "Pred single record"
   ]
  },
  {
   "cell_type": "code",
   "execution_count": 4,
   "id": "8c3d485a",
   "metadata": {},
   "outputs": [
    {
     "name": "stdout",
     "output_type": "stream",
     "text": [
      "{\"predictions\": [2]}\n"
     ]
    }
   ],
   "source": [
    "import requests\n",
    "\n",
    "inference_request={\n",
    "\n",
    "    \"dataframe_records\":[[6.7,3.3,5.7,2.1]]\n",
    "\n",
    "}\n",
    "\n",
    "endpoint = \"http://localhost:1234/invocations\"\n",
    "\n",
    "response = requests.post(endpoint,json=inference_request)\n",
    "\n",
    "print(response.text)"
   ]
  },
  {
   "attachments": {},
   "cell_type": "markdown",
   "id": "0552675e",
   "metadata": {},
   "source": [
    "BATCH RECORDS"
   ]
  },
  {
   "cell_type": "code",
   "execution_count": 56,
   "id": "4f1f7120",
   "metadata": {},
   "outputs": [
    {
     "data": {
      "text/html": [
       "<div>\n",
       "<style scoped>\n",
       "    .dataframe tbody tr th:only-of-type {\n",
       "        vertical-align: middle;\n",
       "    }\n",
       "\n",
       "    .dataframe tbody tr th {\n",
       "        vertical-align: top;\n",
       "    }\n",
       "\n",
       "    .dataframe thead th {\n",
       "        text-align: right;\n",
       "    }\n",
       "</style>\n",
       "<table border=\"1\" class=\"dataframe\">\n",
       "  <thead>\n",
       "    <tr style=\"text-align: right;\">\n",
       "      <th></th>\n",
       "      <th>sepal-length</th>\n",
       "      <th>sepal-width</th>\n",
       "      <th>petal-length</th>\n",
       "      <th>petal-width</th>\n",
       "    </tr>\n",
       "  </thead>\n",
       "  <tbody>\n",
       "    <tr>\n",
       "      <th>26</th>\n",
       "      <td>5.0</td>\n",
       "      <td>3.4</td>\n",
       "      <td>1.6</td>\n",
       "      <td>0.4</td>\n",
       "    </tr>\n",
       "    <tr>\n",
       "      <th>41</th>\n",
       "      <td>4.5</td>\n",
       "      <td>2.3</td>\n",
       "      <td>1.3</td>\n",
       "      <td>0.3</td>\n",
       "    </tr>\n",
       "    <tr>\n",
       "      <th>49</th>\n",
       "      <td>5.0</td>\n",
       "      <td>3.3</td>\n",
       "      <td>1.4</td>\n",
       "      <td>0.2</td>\n",
       "    </tr>\n",
       "    <tr>\n",
       "      <th>44</th>\n",
       "      <td>5.1</td>\n",
       "      <td>3.8</td>\n",
       "      <td>1.9</td>\n",
       "      <td>0.4</td>\n",
       "    </tr>\n",
       "    <tr>\n",
       "      <th>141</th>\n",
       "      <td>6.9</td>\n",
       "      <td>3.1</td>\n",
       "      <td>5.1</td>\n",
       "      <td>2.3</td>\n",
       "    </tr>\n",
       "    <tr>\n",
       "      <th>108</th>\n",
       "      <td>6.7</td>\n",
       "      <td>2.5</td>\n",
       "      <td>5.8</td>\n",
       "      <td>1.8</td>\n",
       "    </tr>\n",
       "    <tr>\n",
       "      <th>86</th>\n",
       "      <td>6.7</td>\n",
       "      <td>3.1</td>\n",
       "      <td>4.7</td>\n",
       "      <td>1.5</td>\n",
       "    </tr>\n",
       "    <tr>\n",
       "      <th>142</th>\n",
       "      <td>5.8</td>\n",
       "      <td>2.7</td>\n",
       "      <td>5.1</td>\n",
       "      <td>1.9</td>\n",
       "    </tr>\n",
       "    <tr>\n",
       "      <th>65</th>\n",
       "      <td>6.7</td>\n",
       "      <td>3.1</td>\n",
       "      <td>4.4</td>\n",
       "      <td>1.4</td>\n",
       "    </tr>\n",
       "    <tr>\n",
       "      <th>61</th>\n",
       "      <td>5.9</td>\n",
       "      <td>3.0</td>\n",
       "      <td>4.2</td>\n",
       "      <td>1.5</td>\n",
       "    </tr>\n",
       "    <tr>\n",
       "      <th>124</th>\n",
       "      <td>6.7</td>\n",
       "      <td>3.3</td>\n",
       "      <td>5.7</td>\n",
       "      <td>2.1</td>\n",
       "    </tr>\n",
       "    <tr>\n",
       "      <th>75</th>\n",
       "      <td>6.6</td>\n",
       "      <td>3.0</td>\n",
       "      <td>4.4</td>\n",
       "      <td>1.4</td>\n",
       "    </tr>\n",
       "    <tr>\n",
       "      <th>83</th>\n",
       "      <td>6.0</td>\n",
       "      <td>2.7</td>\n",
       "      <td>5.1</td>\n",
       "      <td>1.6</td>\n",
       "    </tr>\n",
       "    <tr>\n",
       "      <th>8</th>\n",
       "      <td>4.4</td>\n",
       "      <td>2.9</td>\n",
       "      <td>1.4</td>\n",
       "      <td>0.2</td>\n",
       "    </tr>\n",
       "    <tr>\n",
       "      <th>38</th>\n",
       "      <td>4.4</td>\n",
       "      <td>3.0</td>\n",
       "      <td>1.3</td>\n",
       "      <td>0.2</td>\n",
       "    </tr>\n",
       "    <tr>\n",
       "      <th>122</th>\n",
       "      <td>7.7</td>\n",
       "      <td>2.8</td>\n",
       "      <td>6.7</td>\n",
       "      <td>2.0</td>\n",
       "    </tr>\n",
       "    <tr>\n",
       "      <th>1</th>\n",
       "      <td>4.9</td>\n",
       "      <td>3.0</td>\n",
       "      <td>1.4</td>\n",
       "      <td>0.2</td>\n",
       "    </tr>\n",
       "    <tr>\n",
       "      <th>52</th>\n",
       "      <td>6.9</td>\n",
       "      <td>3.1</td>\n",
       "      <td>4.9</td>\n",
       "      <td>1.5</td>\n",
       "    </tr>\n",
       "    <tr>\n",
       "      <th>66</th>\n",
       "      <td>5.6</td>\n",
       "      <td>3.0</td>\n",
       "      <td>4.5</td>\n",
       "      <td>1.5</td>\n",
       "    </tr>\n",
       "    <tr>\n",
       "      <th>78</th>\n",
       "      <td>6.0</td>\n",
       "      <td>2.9</td>\n",
       "      <td>4.5</td>\n",
       "      <td>1.5</td>\n",
       "    </tr>\n",
       "    <tr>\n",
       "      <th>84</th>\n",
       "      <td>5.4</td>\n",
       "      <td>3.0</td>\n",
       "      <td>4.5</td>\n",
       "      <td>1.5</td>\n",
       "    </tr>\n",
       "    <tr>\n",
       "      <th>146</th>\n",
       "      <td>6.3</td>\n",
       "      <td>2.5</td>\n",
       "      <td>5.0</td>\n",
       "      <td>1.9</td>\n",
       "    </tr>\n",
       "    <tr>\n",
       "      <th>134</th>\n",
       "      <td>6.1</td>\n",
       "      <td>2.6</td>\n",
       "      <td>5.6</td>\n",
       "      <td>1.4</td>\n",
       "    </tr>\n",
       "    <tr>\n",
       "      <th>7</th>\n",
       "      <td>5.0</td>\n",
       "      <td>3.4</td>\n",
       "      <td>1.5</td>\n",
       "      <td>0.2</td>\n",
       "    </tr>\n",
       "    <tr>\n",
       "      <th>23</th>\n",
       "      <td>5.1</td>\n",
       "      <td>3.3</td>\n",
       "      <td>1.7</td>\n",
       "      <td>0.5</td>\n",
       "    </tr>\n",
       "    <tr>\n",
       "      <th>143</th>\n",
       "      <td>6.8</td>\n",
       "      <td>3.2</td>\n",
       "      <td>5.9</td>\n",
       "      <td>2.3</td>\n",
       "    </tr>\n",
       "    <tr>\n",
       "      <th>119</th>\n",
       "      <td>6.0</td>\n",
       "      <td>2.2</td>\n",
       "      <td>5.0</td>\n",
       "      <td>1.5</td>\n",
       "    </tr>\n",
       "    <tr>\n",
       "      <th>47</th>\n",
       "      <td>4.6</td>\n",
       "      <td>3.2</td>\n",
       "      <td>1.4</td>\n",
       "      <td>0.2</td>\n",
       "    </tr>\n",
       "    <tr>\n",
       "      <th>76</th>\n",
       "      <td>6.8</td>\n",
       "      <td>2.8</td>\n",
       "      <td>4.8</td>\n",
       "      <td>1.4</td>\n",
       "    </tr>\n",
       "    <tr>\n",
       "      <th>77</th>\n",
       "      <td>6.7</td>\n",
       "      <td>3.0</td>\n",
       "      <td>5.0</td>\n",
       "      <td>1.7</td>\n",
       "    </tr>\n",
       "    <tr>\n",
       "      <th>46</th>\n",
       "      <td>5.1</td>\n",
       "      <td>3.8</td>\n",
       "      <td>1.6</td>\n",
       "      <td>0.2</td>\n",
       "    </tr>\n",
       "    <tr>\n",
       "      <th>148</th>\n",
       "      <td>6.2</td>\n",
       "      <td>3.4</td>\n",
       "      <td>5.4</td>\n",
       "      <td>2.3</td>\n",
       "    </tr>\n",
       "    <tr>\n",
       "      <th>16</th>\n",
       "      <td>5.4</td>\n",
       "      <td>3.9</td>\n",
       "      <td>1.3</td>\n",
       "      <td>0.4</td>\n",
       "    </tr>\n",
       "    <tr>\n",
       "      <th>6</th>\n",
       "      <td>4.6</td>\n",
       "      <td>3.4</td>\n",
       "      <td>1.4</td>\n",
       "      <td>0.3</td>\n",
       "    </tr>\n",
       "    <tr>\n",
       "      <th>43</th>\n",
       "      <td>5.0</td>\n",
       "      <td>3.5</td>\n",
       "      <td>1.6</td>\n",
       "      <td>0.6</td>\n",
       "    </tr>\n",
       "    <tr>\n",
       "      <th>45</th>\n",
       "      <td>4.8</td>\n",
       "      <td>3.0</td>\n",
       "      <td>1.4</td>\n",
       "      <td>0.3</td>\n",
       "    </tr>\n",
       "    <tr>\n",
       "      <th>120</th>\n",
       "      <td>6.9</td>\n",
       "      <td>3.2</td>\n",
       "      <td>5.7</td>\n",
       "      <td>2.3</td>\n",
       "    </tr>\n",
       "    <tr>\n",
       "      <th>149</th>\n",
       "      <td>5.9</td>\n",
       "      <td>3.0</td>\n",
       "      <td>5.1</td>\n",
       "      <td>1.8</td>\n",
       "    </tr>\n",
       "    <tr>\n",
       "      <th>140</th>\n",
       "      <td>6.7</td>\n",
       "      <td>3.1</td>\n",
       "      <td>5.6</td>\n",
       "      <td>2.4</td>\n",
       "    </tr>\n",
       "    <tr>\n",
       "      <th>95</th>\n",
       "      <td>5.7</td>\n",
       "      <td>3.0</td>\n",
       "      <td>4.2</td>\n",
       "      <td>1.2</td>\n",
       "    </tr>\n",
       "    <tr>\n",
       "      <th>59</th>\n",
       "      <td>5.2</td>\n",
       "      <td>2.7</td>\n",
       "      <td>3.9</td>\n",
       "      <td>1.4</td>\n",
       "    </tr>\n",
       "    <tr>\n",
       "      <th>107</th>\n",
       "      <td>7.3</td>\n",
       "      <td>2.9</td>\n",
       "      <td>6.3</td>\n",
       "      <td>1.8</td>\n",
       "    </tr>\n",
       "    <tr>\n",
       "      <th>129</th>\n",
       "      <td>7.2</td>\n",
       "      <td>3.0</td>\n",
       "      <td>5.8</td>\n",
       "      <td>1.6</td>\n",
       "    </tr>\n",
       "    <tr>\n",
       "      <th>92</th>\n",
       "      <td>5.8</td>\n",
       "      <td>2.6</td>\n",
       "      <td>4.0</td>\n",
       "      <td>1.2</td>\n",
       "    </tr>\n",
       "    <tr>\n",
       "      <th>81</th>\n",
       "      <td>5.5</td>\n",
       "      <td>2.4</td>\n",
       "      <td>3.7</td>\n",
       "      <td>1.0</td>\n",
       "    </tr>\n",
       "  </tbody>\n",
       "</table>\n",
       "</div>"
      ],
      "text/plain": [
       "     sepal-length  sepal-width  petal-length  petal-width\n",
       "26            5.0          3.4           1.6          0.4\n",
       "41            4.5          2.3           1.3          0.3\n",
       "49            5.0          3.3           1.4          0.2\n",
       "44            5.1          3.8           1.9          0.4\n",
       "141           6.9          3.1           5.1          2.3\n",
       "108           6.7          2.5           5.8          1.8\n",
       "86            6.7          3.1           4.7          1.5\n",
       "142           5.8          2.7           5.1          1.9\n",
       "65            6.7          3.1           4.4          1.4\n",
       "61            5.9          3.0           4.2          1.5\n",
       "124           6.7          3.3           5.7          2.1\n",
       "75            6.6          3.0           4.4          1.4\n",
       "83            6.0          2.7           5.1          1.6\n",
       "8             4.4          2.9           1.4          0.2\n",
       "38            4.4          3.0           1.3          0.2\n",
       "122           7.7          2.8           6.7          2.0\n",
       "1             4.9          3.0           1.4          0.2\n",
       "52            6.9          3.1           4.9          1.5\n",
       "66            5.6          3.0           4.5          1.5\n",
       "78            6.0          2.9           4.5          1.5\n",
       "84            5.4          3.0           4.5          1.5\n",
       "146           6.3          2.5           5.0          1.9\n",
       "134           6.1          2.6           5.6          1.4\n",
       "7             5.0          3.4           1.5          0.2\n",
       "23            5.1          3.3           1.7          0.5\n",
       "143           6.8          3.2           5.9          2.3\n",
       "119           6.0          2.2           5.0          1.5\n",
       "47            4.6          3.2           1.4          0.2\n",
       "76            6.8          2.8           4.8          1.4\n",
       "77            6.7          3.0           5.0          1.7\n",
       "46            5.1          3.8           1.6          0.2\n",
       "148           6.2          3.4           5.4          2.3\n",
       "16            5.4          3.9           1.3          0.4\n",
       "6             4.6          3.4           1.4          0.3\n",
       "43            5.0          3.5           1.6          0.6\n",
       "45            4.8          3.0           1.4          0.3\n",
       "120           6.9          3.2           5.7          2.3\n",
       "149           5.9          3.0           5.1          1.8\n",
       "140           6.7          3.1           5.6          2.4\n",
       "95            5.7          3.0           4.2          1.2\n",
       "59            5.2          2.7           3.9          1.4\n",
       "107           7.3          2.9           6.3          1.8\n",
       "129           7.2          3.0           5.8          1.6\n",
       "92            5.8          2.6           4.0          1.2\n",
       "81            5.5          2.4           3.7          1.0"
      ]
     },
     "execution_count": 56,
     "metadata": {},
     "output_type": "execute_result"
    }
   ],
   "source": [
    "X_test"
   ]
  },
  {
   "cell_type": "code",
   "execution_count": 58,
   "id": "534d6d61",
   "metadata": {},
   "outputs": [
    {
     "name": "stdout",
     "output_type": "stream",
     "text": [
      "<Response [200]>\n"
     ]
    }
   ],
   "source": [
    "lst=X_test.values.tolist()\n",
    "inference_request = {\n",
    "\n",
    "    \"dataframe_records\":lst\n",
    "}\n",
    "\n",
    "endpoint = \"http://localhost:1234/invocations\"\n",
    "\n",
    "response=requests.post(endpoint,json=inference_request)\n",
    "print(response)\n"
   ]
  },
  {
   "cell_type": "code",
   "execution_count": 59,
   "id": "3147823a",
   "metadata": {},
   "outputs": [
    {
     "name": "stdout",
     "output_type": "stream",
     "text": [
      "{\"predictions\": [0, 0, 0, 0, 2, 2, 1, 2, 1, 1, 2, 1, 2, 0, 0, 2, 0, 1, 1, 1, 1, 2, 2, 0, 0, 2, 1, 0, 1, 2, 0, 2, 0, 0, 0, 0, 2, 2, 2, 1, 1, 2, 2, 1, 1]}\n"
     ]
    }
   ],
   "source": [
    "print(response.text)"
   ]
  },
  {
   "cell_type": "code",
   "execution_count": null,
   "id": "6f2f5919",
   "metadata": {},
   "outputs": [],
   "source": []
  }
 ],
 "metadata": {
  "kernelspec": {
   "display_name": "py39",
   "language": "python",
   "name": "python3"
  },
  "language_info": {
   "codemirror_mode": {
    "name": "ipython",
    "version": 3
   },
   "file_extension": ".py",
   "mimetype": "text/x-python",
   "name": "python",
   "nbconvert_exporter": "python",
   "pygments_lexer": "ipython3",
   "version": "3.9.16"
  }
 },
 "nbformat": 4,
 "nbformat_minor": 5
}
